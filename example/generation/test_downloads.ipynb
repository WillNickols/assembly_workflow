{
 "cells": [
  {
   "cell_type": "code",
   "execution_count": 24,
   "id": "e161d2dc",
   "metadata": {},
   "outputs": [],
   "source": [
    "import sys\n",
    "import pandas as pd\n",
    "import Bio\n",
    "import re\n",
    "from Bio import Entrez\n",
    "import urllib.request\n",
    "import os\n",
    "from os.path import exists\n",
    "from ftplib import FTP\n",
    "import gzip\n",
    "import shutil\n",
    "import argparse\n",
    "from pathlib import Path\n",
    "\n",
    "ncbi_branches = [\"bacteria\", \"archaea\", \"viral\", \"plasmid\", \"fungi\", \"protozoa\", \"invertebrate\", \"plant\", \"vertebrate_mammalian\", \"vertebrate_other\"]\n",
    "\n",
    "# names = []\n",
    "\n",
    "ncbi_ids = [77608, 198252, 267375]\n",
    "\n",
    "output = 'C:/Users/willn/Documents/GitHub/biobakery_workflows/biobakery_workflows/assembly_workflow/example/'"
   ]
  },
  {
   "cell_type": "code",
   "execution_count": 25,
   "id": "073e5581",
   "metadata": {},
   "outputs": [
    {
     "name": "stdout",
     "output_type": "stream",
     "text": [
      "Pseudoalteromonas distincta\n",
      "Pseudoalteromonas distincta\n",
      "Retrieving from ftp://ftp.ncbi.nlm.nih.gov/genomes/refseq/bacteria/Pseudoalteromonas_distincta/representative/GCF_005877035.1_ASM587703v1/GCF_005877035.1_ASM587703v1_genomic.fna\n",
      "Candidatus Pelagibacter ubique\n",
      "Candidatus Pelagibacter ubique\n",
      "Retrieving from ftp://ftp.ncbi.nlm.nih.gov/genomes/refseq/bacteria/Candidatus_Pelagibacter_ubique/representative/GCF_000012345.1_ASM1234v1/GCF_000012345.1_ASM1234v1_genomic.fna\n",
      "Pseudoalteromonas marina\n",
      "Pseudoalteromonas marina\n",
      "Retrieving from ftp://ftp.ncbi.nlm.nih.gov/genomes/refseq/bacteria/Pseudoalteromonas_marina/representative/GCF_900141965.1_IMG-taxon_2703719062_annotated_assembly/GCF_900141965.1_IMG-taxon_2703719062_annotated_assembly_genomic.fna\n"
     ]
    }
   ],
   "source": [
    "for tax_id in ncbi_ids:\n",
    "    handle = Entrez.efetch(db = \"taxonomy\", id = str(tax_id), retmode=\"xml\", rettype=\"gb\")\n",
    "    lines = handle.readlines()\n",
    "    lines = [line.rstrip() for line in lines]\n",
    "    str_match = [str(s) for s in lines if \"ScientificName\" in str(s)]\n",
    "    if len(str_match) > 0:\n",
    "        print(re.search('<ScientificName>(.*)</ScientificName>', str_match[0]).group(1))\n",
    "        name = re.search('<ScientificName>(.*)</ScientificName>', str_match[0]).group(1)\n",
    "    else:\n",
    "        raise ValueError('Taxonomic name not present in NCBI lookup')\n",
    "\n",
    "    print(name)\n",
    "        \n",
    "    ftp = FTP('ftp.ncbi.nih.gov')\n",
    "    ftp.login()\n",
    "\n",
    "    branch_index = 0\n",
    "    while True:\n",
    "        if branch_index == len(ncbi_branches):\n",
    "            raise ValueError(\"Genome not found\")\n",
    "        branch = ncbi_branches[branch_index]\n",
    "        try:\n",
    "            ftp.cwd('genomes/refseq/' + branch + '/' + name.replace(\" \", \"_\") + '/')\n",
    "            dir_list = ftp.nlst()\n",
    "            ftp.close()\n",
    "            if 'reference' in dir_list:\n",
    "                ftp = FTP('ftp.ncbi.nih.gov')\n",
    "                ftp.login()\n",
    "                ftp.cwd('genomes/refseq/' + branch + '/' + name.replace(\" \", \"_\") + '/reference/')\n",
    "                strains = ftp.nlst()\n",
    "                ftp.close()\n",
    "                genome_type = 'reference'\n",
    "            elif 'representative' in dir_list:\n",
    "                ftp = FTP('ftp.ncbi.nih.gov')\n",
    "                ftp.login()\n",
    "                ftp.cwd('genomes/refseq/' + branch + '/' + name.replace(\" \", \"_\") + '/representative/')\n",
    "                strains = ftp.nlst()\n",
    "                ftp.close()\n",
    "                genome_type = 'representative'\n",
    "            break\n",
    "        except:\n",
    "            branch_index+=1\n",
    "\n",
    "        print(\"No genome found\")\n",
    "        strains = []\n",
    "\n",
    "    for strain in strains:\n",
    "        if not exists(output + \"genomes/\" + strain + \"_genomic.fna\"):\n",
    "            print(\"Retrieving from ftp://ftp.ncbi.nlm.nih.gov/genomes/refseq/\" + branch + \"/\" + name.replace(\" \", \"_\") + \"/\" + genome_type + \"/\" + strain + \"/\" + strain + \"_genomic.fna\")\n",
    "            try:\n",
    "                urllib.request.urlretrieve(\"ftp://ftp.ncbi.nlm.nih.gov/genomes/refseq/\" + branch + \"/\" + name.replace(\" \", \"_\") + \"/\" + genome_type + \"/\" + strain + \"/\" + strain + \"_genomic.fna.gz\", output + \"genomes/\" + strain + \"_genomic.fna.gz\")\n",
    "            except:\n",
    "                print(\"Failed, trying again...\")\n",
    "                urllib.request.urlretrieve(\"ftp://ftp.ncbi.nlm.nih.gov/genomes/refseq/\" + branch + \"/\" + name.replace(\" \", \"_\") + \"/\" + genome_type + \"/\" + strain + \"/\" + strain + \"_genomic.fna.gz\", output + \"genomes/\" + strain + \"_genomic.fna.gz\")"
   ]
  }
 ],
 "metadata": {
  "kernelspec": {
   "display_name": "Python 3 (ipykernel)",
   "language": "python",
   "name": "python3"
  },
  "language_info": {
   "codemirror_mode": {
    "name": "ipython",
    "version": 3
   },
   "file_extension": ".py",
   "mimetype": "text/x-python",
   "name": "python",
   "nbconvert_exporter": "python",
   "pygments_lexer": "ipython3",
   "version": "3.9.13"
  }
 },
 "nbformat": 4,
 "nbformat_minor": 5
}
